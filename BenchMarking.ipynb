{
 "cells": [
  {
   "cell_type": "markdown",
   "metadata": {},
   "source": [
    "### 导入必要的BenchMark测试库"
   ]
  },
  {
   "cell_type": "code",
   "execution_count": 8,
   "metadata": {},
   "outputs": [],
   "source": [
    "from Apps.GPUClient.VideoProcessorGPU import VideoProcessor as vpg\n",
    "from Apps.PureCPUClient.VideoProcessorCPUCV import VideoProcessor as vpc\n",
    "from tqdm.autonotebook import tqdm\n",
    "import pathlib\n",
    "import cv2\n",
    "import ffmpegcv as ffcv\n",
    "import time"
   ]
  },
  {
   "cell_type": "markdown",
   "metadata": {},
   "source": [
    "### 加载图像（使用非DALI的方式）"
   ]
  },
  {
   "cell_type": "code",
   "execution_count": 3,
   "metadata": {},
   "outputs": [],
   "source": [
    "images = list(pathlib.Path(\"./Student_Behavior-1/train/images/\").glob(\"*.jpg\"))"
   ]
  },
  {
   "cell_type": "markdown",
   "metadata": {},
   "source": [
    "### 启动Triton推理服务"
   ]
  },
  {
   "cell_type": "code",
   "execution_count": 4,
   "metadata": {},
   "outputs": [],
   "source": [
    "!sudo bash ./runDocker.sh"
   ]
  },
  {
   "cell_type": "markdown",
   "metadata": {},
   "source": [
    "### 在CPU管道上执行任务"
   ]
  },
  {
   "cell_type": "code",
   "execution_count": 5,
   "metadata": {},
   "outputs": [],
   "source": [
    "cpuClient = vpc()"
   ]
  },
  {
   "cell_type": "code",
   "execution_count": 10,
   "metadata": {},
   "outputs": [
    {
     "name": "stdout",
     "output_type": "stream",
     "text": [
      "Executing CPU Tasks..\n"
     ]
    },
    {
     "data": {
      "application/vnd.jupyter.widget-view+json": {
       "model_id": "563012ba637f4633aa13c6be6adf2a47",
       "version_major": 2,
       "version_minor": 0
      },
      "text/plain": [
       "  0%|          | 0/195 [00:00<?, ?it/s]"
      ]
     },
     "metadata": {},
     "output_type": "display_data"
    },
    {
     "name": "stdout",
     "output_type": "stream",
     "text": [
      "CPU FPS: 13.6\n"
     ]
    }
   ],
   "source": [
    "print(\"Executing CPU Tasks..\")\n",
    "start  = time.time()\n",
    "with tqdm(total=len(images)) as pbar:\n",
    "    for i in images:\n",
    "        pbar.set_description(f\"Executing files {i}\")\n",
    "        img = cv2.imread(str(i))\n",
    "        try:\n",
    "            cpuClient.processing(img)\n",
    "        except:\n",
    "            pass\n",
    "        pbar.update(1)\n",
    "end = time.time()\n",
    "\n",
    "fps = len(images)/(end-start)\n",
    "print(f\"CPU FPS: {round(fps,2)}\")"
   ]
  },
  {
   "cell_type": "markdown",
   "metadata": {},
   "source": [
    "### 在GPU管道上执行任务"
   ]
  },
  {
   "cell_type": "code",
   "execution_count": 11,
   "metadata": {},
   "outputs": [],
   "source": [
    "gpuClient = vpg()"
   ]
  },
  {
   "cell_type": "code",
   "execution_count": 14,
   "metadata": {},
   "outputs": [
    {
     "name": "stdout",
     "output_type": "stream",
     "text": [
      "Executing GPU Tasks..\n"
     ]
    },
    {
     "data": {
      "application/vnd.jupyter.widget-view+json": {
       "model_id": "a3b246ca645049c0a71c5a7f5e032c1e",
       "version_major": 2,
       "version_minor": 0
      },
      "text/plain": [
       "  0%|          | 0/195 [00:00<?, ?it/s]"
      ]
     },
     "metadata": {},
     "output_type": "display_data"
    },
    {
     "name": "stdout",
     "output_type": "stream",
     "text": [
      "GPU FPS: 202.99\n"
     ]
    }
   ],
   "source": [
    "print(\"Executing GPU Tasks..\")\n",
    "start  = time.time()\n",
    "with tqdm(total=len(images)) as pbar:\n",
    "    for i in images:\n",
    "        pbar.set_description(f\"Executing files {i}\")\n",
    "        img = cv2.imread(str(i))\n",
    "        try:\n",
    "            gpuClient.processing(img)\n",
    "        except:\n",
    "            pass\n",
    "        pbar.update(1)\n",
    "end = time.time()\n",
    "\n",
    "fps = len(images)/(end-start)\n",
    "print(f\"GPU FPS: {round(fps,2)}\")"
   ]
  },
  {
   "cell_type": "code",
   "execution_count": 25,
   "metadata": {},
   "outputs": [
    {
     "data": {
      "image/png": "[encoded data removed]",
      "text/plain": [
       "<Figure size 1000x500 with 1 Axes>"
      ]
     },
     "metadata": {},
     "output_type": "display_data"
    }
   ],
   "source": [
    "import matplotlib.pyplot as plt\n",
    "\n",
    "x = [\"OpenCV+Pandas\", \"CVCUDA+cuDF\"]\n",
    "y = [13.6,202.99]\n",
    "plt.figure(figsize=(10,5))\n",
    "plt.title(\"OpenCV Pipeline vs CVCUDA Pipeline on Yolov8n benchmarking\")\n",
    "plt.xlabel(\"FPS\")\n",
    "plt.barh(x[0],y[0])\n",
    "plt.barh(x[1],y[1],color=\"#91C733\")\n",
    "plt.savefig(\"Benchmark.png\",dpi=300)\n",
    "plt.show()\n"
   ]
  },
  {
   "cell_type": "code",
   "execution_count": null,
   "metadata": {},
   "outputs": [],
   "source": []
  }
 ],
 "metadata": {
  "kernelspec": {
   "display_name": "gpuedge",
   "language": "python",
   "name": "python3"
  },
  "language_info": {
   "codemirror_mode": {
    "name": "ipython",
    "version": 3
   },
   "file_extension": ".py",
   "mimetype": "text/x-python",
   "name": "python",
   "nbconvert_exporter": "python",
   "pygments_lexer": "ipython3",
   "version": "3.8.15"
  }
 },
 "nbformat": 4,
 "nbformat_minor": 2
}
